{
 "cells": [
  {
   "cell_type": "code",
   "execution_count": 1,
   "metadata": {},
   "outputs": [],
   "source": [
    "import os"
   ]
  },
  {
   "cell_type": "code",
   "execution_count": 2,
   "metadata": {},
   "outputs": [],
   "source": [
    "ANNOTATIONS_PATH = \"./annotations/instances_train2017.json\"\n",
    "\n",
    "!pip install tqdm\n",
    "if not os.path.exists(ANNOTATIONS_PATH):\n",
    "    !wget http://images.cocodataset.org/annotations/annotations_trainval2017.zip\n",
    "    !unzip annotations_trainval2017.zip"
   ]
  },
  {
   "cell_type": "code",
   "execution_count": 3,
   "metadata": {},
   "outputs": [
    {
     "output_type": "stream",
     "name": "stdout",
     "text": "2020-05-23 09:04:27 Starting the calculation of the optimal anchors ratios\n2020-05-23 09:04:27 Reading annotations from ./annotations/instances_train2017.json\n2020-05-23 09:04:45 Extracting and preprocessing bounding boxes\n2020-05-23 09:04:55 Discarding 2 bounding boxes with size lower or equal to 0\n2020-05-23 09:04:55 K-Means (10 runs): 100%|████████████| 10/10 [01:42<00:00, 10.20s/it]2020-05-23 09:06:37 Runs avg. IoU: 80.48% ± 0.00% (mean ± std. dev. of 10 runs, 0 skipped)\n2020-05-23 09:06:37 Optimal anchors ratios (avg. IoU: 80.48%): [(0.6, 1.5), (1.0, 1.0), (1.4, 0.7)]\n\n"
    }
   ],
   "source": [
    "from kmeans_anchors_ratios import get_optimal_anchors_ratios\n",
    "\n",
    "\n",
    "anchors_ratios = get_optimal_anchors_ratios(\n",
    "    ANNOTATIONS_PATH,\n",
    "    input_size=512,\n",
    "    scale_bboxes=True,\n",
    "    num_runs=10,\n",
    "    num_anchors_ratios=3,\n",
    "    max_iter=300,\n",
    "    min_size=0,\n",
    "    decimals=1,\n",
    ")"
   ]
  },
  {
   "cell_type": "code",
   "execution_count": 4,
   "metadata": {},
   "outputs": [
    {
     "output_type": "execute_result",
     "data": {
      "text/plain": "[(0.6, 1.5), (1.0, 1.0), (1.4, 0.7)]"
     },
     "metadata": {},
     "execution_count": 4
    }
   ],
   "source": [
    "anchors_ratios"
   ]
  },
  {
   "cell_type": "code",
   "execution_count": null,
   "metadata": {},
   "outputs": [],
   "source": []
  }
 ],
 "metadata": {
  "kernelspec": {
   "display_name": "Python 3",
   "language": "python",
   "name": "python3"
  },
  "language_info": {
   "codemirror_mode": {
    "name": "ipython",
    "version": 3
   },
   "file_extension": ".py",
   "mimetype": "text/x-python",
   "name": "python",
   "nbconvert_exporter": "python",
   "pygments_lexer": "ipython3",
   "version": "3.6.10-final"
  }
 },
 "nbformat": 4,
 "nbformat_minor": 4
}