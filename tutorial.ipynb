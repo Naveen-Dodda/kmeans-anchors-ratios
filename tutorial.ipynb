{
 "cells": [
  {
   "cell_type": "markdown",
   "metadata": {},
   "source": [
    "# K-Means Anchors Ratios Tutorial"
   ]
  },
  {
   "cell_type": "code",
   "execution_count": 1,
   "metadata": {},
   "outputs": [],
   "source": [
    "import json\n",
    "import numpy as np\n",
    "import os\n",
    "\n",
    "%load_ext autoreload\n",
    "%autoreload 2"
   ]
  },
  {
   "cell_type": "markdown",
   "metadata": {},
   "source": [
    "## Get COCO train 2017 instances"
   ]
  },
  {
   "cell_type": "code",
   "execution_count": 2,
   "metadata": {},
   "outputs": [
    {
     "output_type": "stream",
     "name": "stdout",
     "text": "Requirement already satisfied: tqdm in c:\\users\\a457934\\anaconda3\\lib\\site-packages (from -r requirements.txt (line 1)) (4.42.1)\n"
    }
   ],
   "source": [
    "INSTANCES_PATH = \"./annotations/instances_train2017.json\"\n",
    "\n",
    "!pip install -r requirements.txt\n",
    "if not os.path.exists(INSTANCES_PATH):\n",
    "    !wget http://images.cocodataset.org/annotations/annotations_trainval2017.zip\n",
    "    !unzip annotations_trainval2017.zip"
   ]
  },
  {
   "cell_type": "code",
   "execution_count": 3,
   "metadata": {},
   "outputs": [],
   "source": [
    "with open(INSTANCES_PATH) as f:\n",
    "    instances = json.load(f)"
   ]
  },
  {
   "cell_type": "markdown",
   "metadata": {},
   "source": [
    "## Get optimal anchors ratios"
   ]
  },
  {
   "cell_type": "code",
   "execution_count": 4,
   "metadata": {},
   "outputs": [
    {
     "output_type": "execute_result",
     "data": {
      "text/plain": "[32.0,\n 35.91878554589994,\n 40.31747359663594,\n 64.0,\n 71.83757109179987,\n 80.63494719327188,\n 128.0,\n 143.67514218359975,\n 161.26989438654377,\n 256.0,\n 287.3502843671995,\n 322.53978877308754,\n 512.0,\n 574.700568734399,\n 645.0795775461751]"
     },
     "metadata": {},
     "execution_count": 4
    }
   ],
   "source": [
    "## change the following parameters according to your model:\n",
    "\n",
    "# efficientdet0 input size\n",
    "INPUT_SIZE = 512\n",
    "# efficientdet default sizes\n",
    "ANCHORS_SIZES = (np.sqrt([2 ** 0, 2 ** (1.0 / 3.0), 2 ** (2.0 / 3.0)]) * \n",
    "                 np.array([32, 64, 128, 256, 512])[:, np.newaxis]).flatten().tolist()\n",
    "ANCHORS_SIZES"
   ]
  },
  {
   "cell_type": "code",
   "execution_count": 5,
   "metadata": {},
   "outputs": [
    {
     "output_type": "stream",
     "name": "stdout",
     "text": "[06/13 12:51:09] Starting the calculation of the optimal anchors ratios\n[06/13 12:51:09] Extracting and preprocessing bounding boxes\n[06/13 12:51:12] Discarding 2 bounding boxes with size lower or equal to 0\n[06/13 12:51:13] K-Means (3 runs): 100%|██████████████████| 3/3 [00:34<00:00, 11.43s/it]\tRuns avg. IoU: 80.48% ± 0.00% (mean ± std. dev. of 3 runs, 0 skipped)\n\tAvg. IoU between bboxes and their most similar anchors after norm. them to make their area equal (only ratios matter): 80.48%\n\n[06/13 12:51:51] Default anchors ratios: [(0.7, 1.4), (1.0, 1.0), (1.4, 0.7)]\n\tAvg. IoU between bboxes and their most similar default anchors, no norm. (both ratios and sizes matter): 60.57%\n\tNum. bboxes without similar default anchors (IoU >= 0.5):  251107/860001 (29.20%)\n[06/13 12:51:58] K-Means anchors ratios: [(0.6, 1.5), (1.0, 1.0), (1.4, 0.7)]\n\tAvg. IoU between bboxes and their most similar K-Means anchors, no norm. (both ratios and sizes matter): 61.02%\n\tNum. bboxes without similar K-Means anchors (IoU >= 0.5):  239495/860001 (27.85%)\n[06/13 12:51:59] K-Means anchors have an IoU < 50% with bboxes in 1.35% less cases than the default anchors, you should consider to use them\n"
    }
   ],
   "source": [
    "from kmeans_anchors_ratios import get_optimal_anchors_ratios\n",
    "\n",
    "anchors_ratios = get_optimal_anchors_ratios(\n",
    "    instances,\n",
    "    anchors_sizes=ANCHORS_SIZES,\n",
    "    input_size=INPUT_SIZE,\n",
    "    normalizes_bboxes=True,\n",
    "    num_runs=3,\n",
    "    num_anchors_ratios=3,\n",
    "    max_iter=300,\n",
    "    iou_threshold=0.5,\n",
    "    min_size=0,\n",
    "    decimals=1,\n",
    "    default_anchors_ratios=[(0.7, 1.4), (1.0, 1.0), (1.4, 0.7)]\n",
    ")"
   ]
  },
  {
   "cell_type": "markdown",
   "metadata": {},
   "source": [
    "## Generate anchors given ratios and sizes"
   ]
  },
  {
   "cell_type": "code",
   "execution_count": 6,
   "metadata": {},
   "outputs": [
    {
     "output_type": "stream",
     "name": "stdout",
     "text": "Anchors:\n[[ 19.2         48.        ]\n [ 32.          32.        ]\n [ 44.8         22.4       ]\n [ 21.55127133  53.87817832]\n [ 35.91878555  35.91878555]\n [ 50.28629976  25.14314988]\n [ 24.19048416  60.47621039]\n [ 40.3174736   40.3174736 ]\n [ 56.44446304  28.22223152]\n [ 38.4         96.        ]\n [ 64.          64.        ]\n [ 89.6         44.8       ]\n [ 43.10254266 107.75635664]\n [ 71.83757109  71.83757109]\n [100.57259953  50.28629976]\n [ 48.38096832 120.95242079]\n [ 80.63494719  80.63494719]\n [112.88892607  56.44446304]\n [ 76.8        192.        ]\n [128.         128.        ]\n [179.2         89.6       ]\n [ 86.20508531 215.51271328]\n [143.67514218 143.67514218]\n [201.14519906 100.57259953]\n [ 96.76193663 241.90484158]\n [161.26989439 161.26989439]\n [225.77785214 112.88892607]\n [153.6        384.        ]\n [256.         256.        ]\n [358.4        179.2       ]\n [172.41017062 431.02542655]\n [287.35028437 287.35028437]\n [402.29039811 201.14519906]\n [193.52387326 483.80968316]\n [322.53978877 322.53978877]\n [451.55570428 225.77785214]\n [307.2        768.        ]\n [512.         512.        ]\n [716.8        358.4       ]\n [344.82034124 862.0508531 ]\n [574.70056873 574.70056873]\n [804.58079623 402.29039811]\n [387.04774653 967.61936632]\n [645.07957755 645.07957755]\n [903.11140856 451.55570428]]\n"
    }
   ],
   "source": [
    "from kmeans_anchors_ratios import generate_anchors_given_ratios_and_sizes\n",
    "\n",
    "\n",
    "anchors = generate_anchors_given_ratios_and_sizes(anchors_ratios, ANCHORS_SIZES)\n",
    "print(\"Anchors:\")\n",
    "print(anchors)"
   ]
  },
  {
   "cell_type": "markdown",
   "metadata": {},
   "source": [
    "## Get bounding boxes adapted to the input size"
   ]
  },
  {
   "cell_type": "code",
   "execution_count": 7,
   "metadata": {},
   "outputs": [
    {
     "output_type": "stream",
     "name": "stdout",
     "text": "Bounding boxes adapted to the input size (first 5):\n[[ 62.168  56.704]\n [119.512  30.84 ]\n [128.     46.248]\n [100.752  18.168]\n [ 53.176  53.4  ]]\n"
    }
   ],
   "source": [
    "from kmeans_anchors_ratios import get_bboxes_adapted_to_input_size\n",
    "\n",
    "\n",
    "resized_bboxes = get_bboxes_adapted_to_input_size(instances, input_size=INPUT_SIZE)\n",
    "resized_bboxes = resized_bboxes[resized_bboxes.prod(axis=1) > 0]  # remove 0 size\n",
    "print(\"Bounding boxes adapted to the input size (first 5):\")\n",
    "print(resized_bboxes[:5])"
   ]
  },
  {
   "cell_type": "markdown",
   "metadata": {},
   "source": [
    "## Get the avg. IoU between the bounding boxes and their closest anchors"
   ]
  },
  {
   "cell_type": "code",
   "execution_count": 8,
   "metadata": {},
   "outputs": [
    {
     "output_type": "stream",
     "name": "stdout",
     "text": "Avg. IoU: 61.02%\n"
    }
   ],
   "source": [
    "from kmeans_anchors_ratios import average_iou\n",
    "\n",
    "\n",
    "avg_iou = average_iou(resized_bboxes, anchors)\n",
    "print(f\"Avg. IoU: {100 * avg_iou:.2f}%\")"
   ]
  },
  {
   "cell_type": "markdown",
   "metadata": {},
   "source": [
    "## Get annotations whose bounding boxes don't have similar anchors"
   ]
  },
  {
   "cell_type": "code",
   "execution_count": 9,
   "metadata": {},
   "outputs": [
    {
     "output_type": "stream",
     "name": "stdout",
     "text": "Bounding boxes without similar anchors (first 5):\n[[125.94, 22.71], [26.17, 19.49], [13.28, 9.36], [34.03, 22.54], [29.63, 25.24]]\nBounding boxes without similar anchors adapted to the input size (first 5):\n[[100.752  18.168]\n [ 20.936  15.592]\n [ 10.624   7.488]\n [ 27.224  18.032]\n [ 23.704  20.192]]\n"
    }
   ],
   "source": [
    "from kmeans_anchors_ratios import get_annotations_without_similar_anchors\n",
    "\n",
    "\n",
    "annotations = get_annotations_without_similar_anchors(\n",
    "    instances,\n",
    "    anchors_ratios,\n",
    "    anchors_sizes=ANCHORS_SIZES,\n",
    "    input_size=INPUT_SIZE,\n",
    "    iou_threshold=0.5,\n",
    "    min_size=0,\n",
    ")\n",
    "\n",
    "bboxes = [ann[\"bbox\"][-2:] for ann in annotations]  # widths and heights\n",
    "print(\"Bounding boxes without similar anchors (first 5):\")\n",
    "print(bboxes[:5])\n",
    "\n",
    "instances_without_similar_anchors = instances.copy()\n",
    "instances_without_similar_anchors[\"annotations\"] = annotations\n",
    "resized_bboxes = get_bboxes_adapted_to_input_size(instances_without_similar_anchors, input_size=INPUT_SIZE)\n",
    "print(\"Bounding boxes without similar anchors adapted to the input size (first 5):\")\n",
    "print(resized_bboxes[:5])"
   ]
  },
  {
   "cell_type": "code",
   "execution_count": null,
   "metadata": {},
   "outputs": [],
   "source": []
  }
 ],
 "metadata": {
  "kernelspec": {
   "display_name": "Python 3",
   "language": "python",
   "name": "python3"
  },
  "language_info": {
   "codemirror_mode": {
    "name": "ipython",
    "version": 3
   },
   "file_extension": ".py",
   "mimetype": "text/x-python",
   "name": "python",
   "nbconvert_exporter": "python",
   "pygments_lexer": "ipython3",
   "version": "3.6.10-final"
  }
 },
 "nbformat": 4,
 "nbformat_minor": 4
}