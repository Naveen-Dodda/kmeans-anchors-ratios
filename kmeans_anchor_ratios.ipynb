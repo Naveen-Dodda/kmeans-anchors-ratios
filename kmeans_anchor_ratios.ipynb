{
 "cells": [
  {
   "cell_type": "code",
   "execution_count": 1,
   "metadata": {},
   "outputs": [],
   "source": [
    "import os"
   ]
  },
  {
   "cell_type": "code",
   "execution_count": 2,
   "metadata": {},
   "outputs": [],
   "source": [
    "ANNOTATIONS_PATH = \"./annotations/instances_train2017.json\"\n",
    "\n",
    "!pip install tqdma\n",
    "if not os.path.exists(ANNOTATIONS_PATH):\n",
    "    !wget http://images.cocodataset.org/annotations/annotations_trainval2017.zip\n",
    "    !unzip annotations_trainval2017.zip"
   ]
  },
  {
   "cell_type": "code",
   "execution_count": 3,
   "metadata": {},
   "outputs": [
    {
     "name": "stdout",
     "output_type": "stream",
     "text": [
      "2020-05-17 17:58:06 Starting the calculation of the optimal anchor ratios\n",
      "2020-05-17 17:58:06 Reading annotations from ./annotations/instances_train2017.json\n",
      "2020-05-17 17:58:20 Extracting and preprocessing bounding boxes\n",
      "2020-05-17 17:58:29 Discarding 2 bounding boxes with size lower or equal to 0\n"
     ]
    },
    {
     "name": "stderr",
     "output_type": "stream",
     "text": [
      "2020-05-17 17:58:29 K-Means (10 runs): 100%|████████████| 10/10 [01:10<00:00,  7.01s/it]"
     ]
    },
    {
     "name": "stdout",
     "output_type": "stream",
     "text": [
      "2020-05-17 17:59:39 Runs avg. IoU: 80.48% ± 0.00% (mean ± std. dev. of 10 runs, 0 skipped)\n",
      "2020-05-17 17:59:39 Optimal anchor ratios (avg. IoU: 80.48%): [(0.6, 1.5), (1.0, 1.0), (1.4, 0.7)]\n"
     ]
    },
    {
     "name": "stderr",
     "output_type": "stream",
     "text": [
      "\n"
     ]
    }
   ],
   "source": [
    "from kmeans_anchor_ratios import get_optimal_anchor_ratios\n",
    "\n",
    "\n",
    "anchor_ratios = get_optimal_anchor_ratios(\n",
    "    ANNOTATIONS_PATH,\n",
    "    input_size=512,\n",
    "    scale_bboxes=True,\n",
    "    num_runs=10,\n",
    "    num_anchor_ratios=3,\n",
    "    max_iter=300,\n",
    "    min_size=0,\n",
    "    decimals=1,\n",
    ")"
   ]
  },
  {
   "cell_type": "code",
   "execution_count": 4,
   "metadata": {},
   "outputs": [
    {
     "data": {
      "text/plain": [
       "[(0.6, 1.5), (1.0, 1.0), (1.4, 0.7)]"
      ]
     },
     "execution_count": 4,
     "metadata": {},
     "output_type": "execute_result"
    }
   ],
   "source": [
    "anchor_ratios"
   ]
  },
  {
   "cell_type": "code",
   "execution_count": null,
   "metadata": {},
   "outputs": [],
   "source": []
  }
 ],
 "metadata": {
  "kernelspec": {
   "display_name": "conda_python3",
   "language": "python",
   "name": "conda_python3"
  },
  "language_info": {
   "codemirror_mode": {
    "name": "ipython",
    "version": 3
   },
   "file_extension": ".py",
   "mimetype": "text/x-python",
   "name": "python",
   "nbconvert_exporter": "python",
   "pygments_lexer": "ipython3",
   "version": "3.6.5"
  }
 },
 "nbformat": 4,
 "nbformat_minor": 4
}
